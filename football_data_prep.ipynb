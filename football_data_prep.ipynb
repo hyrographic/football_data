{
 "cells": [
  {
   "cell_type": "code",
   "execution_count": 2,
   "id": "21d2d3f8-0d7c-4a51-a408-bab0ac07bd24",
   "metadata": {},
   "outputs": [],
   "source": [
    "import pandas as pd\n",
    "import numpy as np\n",
    "import re\n",
    "import os\n",
    "import requests\n",
    "import time\n",
    "from PIL import Image, ImageOps"
   ]
  },
  {
   "cell_type": "markdown",
   "id": "30f2bbd1-2a67-4cfa-a133-222d37eb4486",
   "metadata": {},
   "source": [
    "https://flatuicolors.com/palette/ca"
   ]
  },
  {
   "cell_type": "code",
   "execution_count": 3,
   "id": "33cedf48-6dc3-4a60-9e5c-dc4b5b67a87a",
   "metadata": {},
   "outputs": [],
   "source": [
    "pd.set_option('display.max_columns', None)"
   ]
  },
  {
   "cell_type": "markdown",
   "id": "7bfdb3d4-7476-4cc3-aee5-cb9ef4e01418",
   "metadata": {
    "tags": []
   },
   "source": [
    "### <span style=\"color: #95a5a6\">Get Club Logos</span>"
   ]
  },
  {
   "cell_type": "code",
   "execution_count": 147,
   "id": "d765c1b5-4ded-4b43-b200-23060e69e223",
   "metadata": {},
   "outputs": [],
   "source": [
    "# read file containing logo file names from https://github.com/eddwebster/football_analytics/tree/master/img/club_badges/england\n",
    "logo_files = pd.read_csv('data/team_to_logo_path.csv')\n",
    "logo_files.dropna(subset=['Logo Path'], inplace=True)"
   ]
  },
  {
   "cell_type": "code",
   "execution_count": 150,
   "id": "4e3748ba-e955-465d-b732-e389a14370a5",
   "metadata": {},
   "outputs": [],
   "source": [
    "# function to download and save image\n",
    "def download_image(url, image_name):\n",
    "    response = requests.get(url)\n",
    "    with open(f'images/{image_name}', 'wb') as f:\n",
    "        f.write(response.content)"
   ]
  },
  {
   "cell_type": "markdown",
   "id": "5292f82a-a5b8-42df-8eb0-68f7de737b9f",
   "metadata": {
    "tags": []
   },
   "source": [
    "#### <span style=\"color: #95a5a6\">Get logos from Edd Webster Repo</span>"
   ]
  },
  {
   "cell_type": "code",
   "execution_count": 163,
   "id": "49bebbd2-f5a4-4656-a68d-dc5864673182",
   "metadata": {},
   "outputs": [],
   "source": [
    "git_url = 'https://raw.githubusercontent.com/eddwebster/football_analytics/refs/heads/master/img/club_badges/england/{}'\n",
    "# iterate through the list of URLs\n",
    "for i, row in logo_files.iterrows():\n",
    "    # get team name\n",
    "    team_name = row['Team Name']\n",
    "    # get the image filename\n",
    "    image_name = row['Logo Path']\n",
    "    image_url = git_url.format(image_name)\n",
    "    # get image file type\n",
    "    image_ext = image_name.split('.')[-1]\n",
    "    save_as_name = team_name + '.' + image_ext\n",
    "    # check if image exists\n",
    "    if save_as_name in os.listdir('images'):\n",
    "        continue\n",
    "    # download and save the image\n",
    "    download_image(image_url, save_as_name)\n",
    "    time.sleep(1)"
   ]
  },
  {
   "cell_type": "code",
   "execution_count": 167,
   "id": "f0a418ec-aeab-462d-be4b-3a426b0b150e",
   "metadata": {},
   "outputs": [
    {
     "name": "stdout",
     "output_type": "stream",
     "text": [
      "Teams with no images\n",
      "[]\n"
     ]
    }
   ],
   "source": [
    "no_images = [tn for tn in match_matrix['team_1'].unique().tolist() if tn not in [i.split('.')[0] for i in os.listdir('images')]]\n",
    "print('Teams with no images')\n",
    "print(no_images)"
   ]
  },
  {
   "cell_type": "markdown",
   "id": "bdf83d22-3a93-41ff-b643-8db770347148",
   "metadata": {
    "tags": []
   },
   "source": [
    "#### <span style=\"color: #95a5a6\">Add background colour to images</span>"
   ]
  },
  {
   "cell_type": "code",
   "execution_count": 239,
   "id": "d8a29360-4558-42e1-9e35-50f64c053445",
   "metadata": {},
   "outputs": [],
   "source": [
    "size_limit_kb = 128\n",
    "quality = 95"
   ]
  },
  {
   "cell_type": "code",
   "execution_count": 243,
   "id": "21bf3781-f4c3-44b1-9603-1a5597f65ed2",
   "metadata": {},
   "outputs": [
    {
     "data": {
      "text/plain": [
       "'images/backgrounded/Burnley.png'"
      ]
     },
     "execution_count": 243,
     "metadata": {},
     "output_type": "execute_result"
    }
   ],
   "source": [
    "output_path"
   ]
  },
  {
   "cell_type": "code",
   "execution_count": 244,
   "id": "545caa70-9bde-47a2-82b8-73333befff24",
   "metadata": {},
   "outputs": [
    {
     "data": {
      "text/plain": [
       "670028"
      ]
     },
     "execution_count": 244,
     "metadata": {},
     "output_type": "execute_result"
    }
   ],
   "source": [
    "os.path.getsize(output_path)"
   ]
  },
  {
   "cell_type": "code",
   "execution_count": 245,
   "id": "8037a16d-111a-4626-a73a-556ac016e2d5",
   "metadata": {},
   "outputs": [
    {
     "data": {
      "text/plain": [
       "131072"
      ]
     },
     "execution_count": 245,
     "metadata": {},
     "output_type": "execute_result"
    }
   ],
   "source": [
    "size_limit_kb * 1024"
   ]
  },
  {
   "cell_type": "code",
   "execution_count": 18,
   "id": "3ba76548-41da-4749-9e63-7a24e16c4f64",
   "metadata": {},
   "outputs": [],
   "source": [
    "for team_name in match_matrix['team_1'].unique():\n",
    "    # check if done\n",
    "    # if team_name in [i.split('.')[0] for i in os.listdir('images/backgrounded')]:\n",
    "    #     print('skipping: ', team_name)\n",
    "    #     continue\n",
    "    # read image\n",
    "    image = Image.open(f\"images/{team_name}.png\").convert(\"RGBA\")\n",
    "    background = Image.new(\"RGBA\", image.size, (87, 101, 116, 255))\n",
    "    composited = Image.alpha_composite(background, image)\n",
    "    # create output path\n",
    "    output_path = f\"images/backgrounded/{team_name}.png\"\n",
    "    # ieratively reduce quality to meet tableau size limit\n",
    "    composited.thumbnail((350, 350))\n",
    "    composited.save(output_path, optimize=True)"
   ]
  },
  {
   "cell_type": "code",
   "execution_count": 19,
   "id": "c6e3e0e7-648e-4240-9c47-a73e3096183f",
   "metadata": {},
   "outputs": [
    {
     "name": "stdout",
     "output_type": "stream",
     "text": [
      "Teams with no images\n",
      "[]\n"
     ]
    }
   ],
   "source": [
    "no_images = [tn for tn in match_matrix['team_1'].unique().tolist() if tn not in [i.split('.')[0] for i in os.listdir('images/backgrounded')]]\n",
    "print('Teams with no images')\n",
    "print(no_images)"
   ]
  },
  {
   "cell_type": "markdown",
   "id": "e5485333-ec43-43a6-917a-06eda7ec6c5c",
   "metadata": {},
   "source": [
    "### <span style=\"color: #95a5a6\">Read Data</span>"
   ]
  },
  {
   "cell_type": "code",
   "execution_count": 8,
   "id": "1ad6e4b5-e836-46f9-bf14-a27f9138c352",
   "metadata": {},
   "outputs": [],
   "source": [
    "keep_columns = {\n",
    "    'Division' : 'division',\n",
    "    'MatchDate' : 'match_date',\n",
    "    'MatchTime' : 'match_time',\n",
    "    'HomeTeam' : 'home_team',\n",
    "    'AwayTeam' : 'away_team',\n",
    "    'FTHome' : 'ft_home',\n",
    "    'FTAway' : 'ft_away',\n",
    "    # 'FTResult' : 'ft_result',\n",
    "    # 'HTHome' : 'ht_home',\n",
    "    # 'HTAway' : 'ht_away',\n",
    "    # 'HTResult':'ht_result'\n",
    "}"
   ]
  },
  {
   "cell_type": "code",
   "execution_count": 9,
   "id": "86147e62-2ec0-439f-b4b6-eb49303e4aff",
   "metadata": {},
   "outputs": [
    {
     "name": "stderr",
     "output_type": "stream",
     "text": [
      "C:\\Users\\Hieye\\AppData\\Local\\Temp\\ipykernel_10152\\205114520.py:1: DtypeWarning: Columns (2) have mixed types. Specify dtype option on import or set low_memory=False.\n",
      "  matches_raw = pd.read_csv('data/Matches.csv')\n"
     ]
    },
    {
     "data": {
      "text/plain": [
       "(226755, 7)"
      ]
     },
     "execution_count": 9,
     "metadata": {},
     "output_type": "execute_result"
    }
   ],
   "source": [
    "matches_raw = pd.read_csv('data/Matches.csv')\n",
    "all_columns = matches_raw.columns\n",
    "matches_raw = matches_raw[keep_columns.keys()].rename(columns=keep_columns).copy()\n",
    "matches_raw.shape"
   ]
  },
  {
   "cell_type": "markdown",
   "id": "9514495c-c330-4462-a255-1d21d8ff2f88",
   "metadata": {},
   "source": [
    "### <span style=\"color: #95a5a6\">Prep Stadium Data</span>"
   ]
  },
  {
   "cell_type": "code",
   "execution_count": 10,
   "id": "e9e1f300-ad1c-49b8-9f86-98de3cf9023e",
   "metadata": {},
   "outputs": [],
   "source": [
    "# code used to output a template file for manually getting stadium names and locations \n",
    "# team_locs_template = matches_unique['team_1'].drop_duplicates().to_frame()\n",
    "# team_locs_template['ground_name'] = None\n",
    "# team_locs_template['lat_long'] = None\n",
    "# team_locs_template[~team_locs_template['home_team'].isin(team_locations['team_1'].tolist())].to_csv('output/missing_team_locations_generated_file.csv', index=False)\n",
    "# team_locs_template.to_csv('output/team_locations_generated_file.csv', index=False)"
   ]
  },
  {
   "cell_type": "code",
   "execution_count": 11,
   "id": "cd5fd433-46db-4337-a0ab-acb24419cd1a",
   "metadata": {},
   "outputs": [],
   "source": [
    "team_locations = pd.read_csv('data/team_locations.csv')\n",
    "team_locations[['lat', 'long']] = team_locations['lat_long'].str.split(', ').values.tolist()\n",
    "team_locations.rename(columns={'home_team':'ground_team_name'}, inplace=True)"
   ]
  },
  {
   "cell_type": "code",
   "execution_count": 12,
   "id": "f24f8ef7-5b2e-428e-89e8-6dad38e9a870",
   "metadata": {},
   "outputs": [],
   "source": [
    "# team_locations[team_locations['lat_long'].duplicated(keep=False)]"
   ]
  },
  {
   "cell_type": "markdown",
   "id": "523066fc-b43f-4d09-a649-85acde691666",
   "metadata": {},
   "source": [
    "### <span style=\"color: #95a5a6\">Prep Match Data</span>"
   ]
  },
  {
   "cell_type": "code",
   "execution_count": 13,
   "id": "61b7e175-3e15-4445-8442-9acd358b393e",
   "metadata": {},
   "outputs": [],
   "source": [
    "matches_unique = matches_raw[matches_raw['division'].isin(['E0', 'E1', 'E2', 'E3'])].reset_index(drop=True)\n",
    "matches_unique['match_id'] = matches_unique.index"
   ]
  },
  {
   "cell_type": "code",
   "execution_count": 14,
   "id": "eefc6fdc-a1e4-431f-9ac1-fdd1a8af6c89",
   "metadata": {},
   "outputs": [],
   "source": [
    "# create a data set where each match is represented twice: team_1 -> team_2 and team_2 -> team_1\n",
    "matches_unique.rename(columns={'home_team':'team_1', 'away_team':'team_2', 'ft_home':'goals_team_1', 'ft_away':'goals_team_2'}, inplace=True)\n",
    "matches_unique['duplicate_row'] = False\n",
    "matches_flipped = matches_unique.rename(columns={'team_1' : 'team_2', 'team_2':'team_1', 'goals_team_1':'goals_team_2', 'goals_team_2':'goals_team_1'})\n",
    "matches_flipped['duplicate_row'] = True\n",
    "# combine the datasets\n",
    "match_matrix = pd.concat([matches_unique, matches_flipped]).reset_index(drop=True)"
   ]
  },
  {
   "cell_type": "code",
   "execution_count": 15,
   "id": "e03b223a-f2db-4390-bd4c-4a9513827f87",
   "metadata": {},
   "outputs": [],
   "source": [
    "# create measures - goal diff and w/l\n",
    "match_matrix['goal_diff'] = match_matrix['goals_team_1'] - match_matrix['goals_team_2']\n",
    "# get results\n",
    "draws = match_matrix['goals_team_1'] == match_matrix['goals_team_2']\n",
    "wins = match_matrix['goals_team_1'] > match_matrix['goals_team_2']\n",
    "losses = match_matrix['goals_team_1'] < match_matrix['goals_team_2']\n",
    "# label matches\n",
    "match_matrix.loc[draws, 'result'] = 'D'\n",
    "match_matrix.loc[wins, 'result'] = 'W'\n",
    "match_matrix.loc[losses, 'result'] = 'L'\n",
    "# give scores based on result\n",
    "match_matrix['result_coded'] = match_matrix['result'].replace('D', 0).replace('L', -1).replace('W', 1)"
   ]
  },
  {
   "cell_type": "code",
   "execution_count": 16,
   "id": "da833048-faf7-41fc-b19a-db4799d7f11e",
   "metadata": {},
   "outputs": [],
   "source": [
    "# format dates\n",
    "match_matrix['match_date'] = pd.to_datetime(match_matrix['match_date'], format='%Y-%m-%d')\n",
    "# add year and month\n",
    "match_matrix['year'] = match_matrix['match_date'].dt.year\n",
    "match_matrix['month'] = match_matrix['match_date'].dt.month"
   ]
  },
  {
   "cell_type": "code",
   "execution_count": 17,
   "id": "c6e73261-556a-4cf4-9cc1-dec38260bf8e",
   "metadata": {},
   "outputs": [],
   "source": [
    "# label seasons\n",
    "for y, year_data in match_matrix.groupby(['year']):\n",
    "    # split data by summer break\n",
    "    year_start_season = year_data[year_data['month'] <= 5]\n",
    "    year_end_season = year_data[year_data['month'] >= 8]\n",
    "    # label data\n",
    "    match_matrix.loc[year_start_season.index, 'season'] = '-'.join([str(y-1), str(y)[-2:]])\n",
    "    match_matrix.loc[year_end_season.index, 'season'] = '-'.join([str(y), str(y + 1)[-2:]])"
   ]
  },
  {
   "cell_type": "markdown",
   "id": "be35e193-2aed-421f-8817-f1700735b709",
   "metadata": {},
   "source": [
    "### <span style=\"color: #95a5a6\">Join Location Data</span>"
   ]
  },
  {
   "cell_type": "code",
   "execution_count": 260,
   "id": "28f9a90d-9da2-41eb-a80c-eca46b217f75",
   "metadata": {},
   "outputs": [],
   "source": [
    "match_locations = match_matrix.merge(team_locations, left_on=['team_2'], right_on=['ground_team_name'], how='outer', validate='m:1')"
   ]
  },
  {
   "cell_type": "markdown",
   "id": "466e18dd-237f-4c0a-8487-1d832260e19c",
   "metadata": {},
   "source": [
    "### <span style=\"color: #95a5a6\">Join HEX Map Data</span>"
   ]
  },
  {
   "cell_type": "code",
   "execution_count": 261,
   "id": "38f56586-8eb8-4c66-ad44-b76868cdacc3",
   "metadata": {},
   "outputs": [],
   "source": [
    "hex_areas = pd.read_csv('data/team_to_hex_area_mapping.csv')\n",
    "# hex_areas.dropna(subset=['Team Name'], inplace=True)"
   ]
  },
  {
   "cell_type": "code",
   "execution_count": 262,
   "id": "5e9ec857-693d-47ff-b6fc-d99291b60833",
   "metadata": {},
   "outputs": [],
   "source": [
    "duplicates = hex_areas[(hex_areas['Team Name'].notna()) & (hex_areas['Team Name'].duplicated())]\n",
    "if not duplicates.empty:\n",
    "    print('Duplicated teams')\n",
    "    display(duplicates)"
   ]
  },
  {
   "cell_type": "code",
   "execution_count": 263,
   "id": "db172fff-42df-4f5c-9dbf-ccc34d8e9030",
   "metadata": {},
   "outputs": [],
   "source": [
    "missing_names = [x for x in match_locations['team_1'].unique() if x not in hex_areas['Team Name'].tolist()]\n",
    "if missing_names:\n",
    "    print(f'Missing {len(missing_names)} names')"
   ]
  },
  {
   "cell_type": "code",
   "execution_count": 264,
   "id": "b9d11eeb-8183-46c3-8646-e6e0bc311972",
   "metadata": {},
   "outputs": [],
   "source": [
    "match_locations_hex = match_locations.merge(hex_areas, left_on=['team_2'], right_on=['Team Name'], how='outer')"
   ]
  },
  {
   "cell_type": "markdown",
   "id": "99b4d313-f6f4-4b7d-80ca-83c7e388140d",
   "metadata": {},
   "source": [
    "### <span style=\"color: #95a5a6\">Output</span>"
   ]
  },
  {
   "cell_type": "code",
   "execution_count": 265,
   "id": "1330b836-a04a-4da8-90e5-4961cd4cef48",
   "metadata": {},
   "outputs": [],
   "source": [
    "match_locations_hex.to_csv('output/match_data.csv', index=False)"
   ]
  }
 ],
 "metadata": {
  "kernelspec": {
   "display_name": "general",
   "language": "python",
   "name": "general"
  },
  "language_info": {
   "codemirror_mode": {
    "name": "ipython",
    "version": 3
   },
   "file_extension": ".py",
   "mimetype": "text/x-python",
   "name": "python",
   "nbconvert_exporter": "python",
   "pygments_lexer": "ipython3",
   "version": "3.9.13"
  }
 },
 "nbformat": 4,
 "nbformat_minor": 5
}
